{
 "cells": [
  {
   "cell_type": "markdown",
   "metadata": {},
   "source": [
    "Linear Probing: In linear probing, we linearly probe for next slot. For example, typical gap between two probes is 1 as taken in below example also.\n",
    "let hash(x) be the slot index computed using hash function and S be the table size"
   ]
  },
  {
   "cell_type": "code",
   "execution_count": null,
   "metadata": {},
   "outputs": [],
   "source": [
    "class HashTable(object):\n",
    "\n",
    "    def __init__(self):\n",
    "        self.max_length = 8\n",
    "        self.max_load_factor = 0.75\n",
    "        self.length = 0\n",
    "        self.table = [None] * self.max_length\n",
    "\n",
    "    def __len__(self):\n",
    "        return self.length\n",
    "\n",
    "    def __setitem__(self, key, value):\n",
    "        self.length += 1\n",
    "        hashed_key = self._hash(key)\n",
    "        while self.table[hashed_key] is not None:\n",
    "            if self.table[hashed_key][0] == key:\n",
    "                self.length -= 1\n",
    "                break\n",
    "            hashed_key = self._increment_key(hashed_key)\n",
    "        tuple = (key, value)\n",
    "        self.table[hashed_key] = tuple\n",
    "        if self.length / float(self.max_length) >= self.max_load_factor:\n",
    "            self._resize()\n",
    "\n",
    "    def __getitem__(self, key):\n",
    "        index = self._find_item(key)\n",
    "        return self.table[index][1]\n",
    "\n",
    "    def __delitem__(self, key):\n",
    "        index = self._find_item(key)\n",
    "        self.table[index] = None\n",
    "\n",
    "    def _hash(self, key):\n",
    "        # TODO more robust\n",
    "        return hash(key) % self.max_length\n",
    "\n",
    "    def _increment_key(self, key):\n",
    "        return (key + 1) % self.max_length\n",
    "\n",
    "    def _find_item(self, key):\n",
    "        hashed_key = self._hash(key)\n",
    "        if self.table[hashed_key] is None:\n",
    "            raise KeyError\n",
    "        if self.table[hashed_key][0] != key:\n",
    "            original_key = hashed_key\n",
    "            while self.table[hashed_key][0] != key:\n",
    "                hashed_key = self._increment_key(hashed_key)\n",
    "                if self.table[hashed_key] is None:\n",
    "                    raise KeyError\n",
    "                if hashed_key == original_key:\n",
    "                    raise KeyError\n",
    "        return hashed_key\n",
    "\n",
    "    def _resize(self):\n",
    "        self.max_length *= 2\n",
    "        self.length = 0\n",
    "        old_table = self.table\n",
    "        self.table = [None] * self.max_length\n",
    "        for tuple in old_table:\n",
    "            if tuple is not None:\n",
    "                self[tuple[0]] = tuple[1]"
   ]
  }
 ],
 "metadata": {
  "kernelspec": {
   "display_name": "Python 3",
   "language": "python",
   "name": "python3"
  },
  "language_info": {
   "codemirror_mode": {
    "name": "ipython",
    "version": 3
   },
   "file_extension": ".py",
   "mimetype": "text/x-python",
   "name": "python",
   "nbconvert_exporter": "python",
   "pygments_lexer": "ipython3",
   "version": "3.7.3"
  }
 },
 "nbformat": 4,
 "nbformat_minor": 2
}
