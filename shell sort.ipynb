{
 "cells": [
  {
   "cell_type": "markdown",
   "metadata": {},
   "source": [
    "ShellSort is mainly a variation of Insertion Sort. In insertion sort, we move elements only one position ahead. When an element has to be moved far ahead, many movements are involved. The idea of shellSort is to allow exchange of far items. In shellSort, we make the array h-sorted for a large value of h. We keep reducing the value of h until it becomes 1. An array is said to be h-sorted if all sublists of every h’th element is sorted.\n",
    "\n",
    "Following is the implementation of ShellSort."
   ]
  },
  {
   "cell_type": "code",
   "execution_count": null,
   "metadata": {},
   "outputs": [],
   "source": [
    "def shellSort(arr): \n",
    "  \n",
    "    # Start with a big gap, then reduce the gap \n",
    "    n = len(arr) \n",
    "    gap = n//2\n",
    "  \n",
    "    # Do a gapped insertion sort for this gap size. \n",
    "    # The first gap elements a[0..gap-1] are already in gapped  \n",
    "    # order keep adding one more element until the entire array \n",
    "    # is gap sorted \n",
    "    while gap > 0: \n",
    "  \n",
    "        for i in range(gap,n): \n",
    "  \n",
    "            # add a[i] to the elements that have been gap sorted \n",
    "            # save a[i] in temp and make a hole at position i \n",
    "            temp = arr[i] \n",
    "  \n",
    "            # shift earlier gap-sorted elements up until the correct \n",
    "            # location for a[i] is found \n",
    "            j = i \n",
    "            while  j >= gap and arr[j-gap] >temp: \n",
    "                arr[j] = arr[j-gap] \n",
    "                j -= gap \n",
    "  \n",
    "            # put temp (the original a[i]) in its correct location \n",
    "            arr[j] = temp \n",
    "        gap //= 2\n",
    "  \n",
    "  \n",
    "# Driver code to test above \n",
    "arr = [ 12, 34, 54, 2, 3] \n",
    "  \n",
    "n = len(arr) \n",
    "print (\"Array before sorting:\") \n",
    "for i in range(n): \n",
    "    print(arr[i]), \n",
    "  \n",
    "shellSort(arr) \n",
    "  \n",
    "print (\"\\nArray after sorting:\") \n",
    "for i in range(n): \n",
    "    print(arr[i]),"
   ]
  }
 ],
 "metadata": {
  "kernelspec": {
   "display_name": "Python 3",
   "language": "python",
   "name": "python3"
  },
  "language_info": {
   "codemirror_mode": {
    "name": "ipython",
    "version": 3
   },
   "file_extension": ".py",
   "mimetype": "text/x-python",
   "name": "python",
   "nbconvert_exporter": "python",
   "pygments_lexer": "ipython3",
   "version": "3.7.3"
  }
 },
 "nbformat": 4,
 "nbformat_minor": 2
}
